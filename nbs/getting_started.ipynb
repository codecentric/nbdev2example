{
 "cells": [
  {
   "cell_type": "markdown",
   "metadata": {},
   "source": [
    "# Getting started\n",
    "> All you need to know about using this project"
   ]
  },
  {
   "cell_type": "markdown",
   "metadata": {},
   "source": [
    "This project is about showing and introducing the features of nbdev2."
   ]
  },
  {
   "cell_type": "markdown",
   "metadata": {},
   "source": [
    "## Environment setup\n",
    "\n",
    "In order to use and develop this project, some preparations have to be made.\n",
    "These include, above all, the installation of Poetry and the creation of a virtual Python environment.\n",
    "\n",
    "### Create a virtual environment\n",
    "You can create a virtual environment in several ways. The following describes the creation via Anaconda (Miniconda) and Python virtualenv.\n",
    "\n",
    "#### Anaconda / Miniconda\n",
    "The following command creates a conda environment in the default venv directory. The Python version used is 3.9 and corresponds to the following\n",
    "```bash\n",
    "conda create -n <your_env_name> python=3.9\n",
    "```\n",
    "#### Python virtual env\n",
    "First you have to make sure that the Python package virtualenv is installed. If this is not the case, it can be installed as follows.\n",
    "```bash\n",
    "pip install virtualenv\n",
    "```\n",
    "This package is now used to create a viral environment.\n",
    "\n",
    "```bash\n",
    " python3 -m virtualenv -p=<your_python_path> <your_evn_path>\n",
    "```\n",
    "The last part of `your_env_path` specifies the name of the virtual environment (e.g. `python3 -m virtualenv -p=/usr/bin/python3.9 ~/venvs/nbdev2example`).\n",
    "\n",
    "### Install Poetry\n",
    "Poetry is used as dependency manager for the external Python libraries. The following commands show how to install Poetry (recommended). Alternative installation methods are listed on the [Poetry website](https://python-poetry.org/docs/#installation).\n",
    "\n",
    "#### osx / linux\n",
    "```bash\n",
    "curl -sSL https://raw.githubusercontent.com/python-poetry/poetry/master/get-poetry.py | python -\n",
    "```\n",
    "To use Poetry please reload / reopen your terminal.\n",
    "\n",
    "#### windows\n",
    "```bash\n",
    "(Invoke-WebRequest -Uri https://raw.githubusercontent.com/python-poetry/poetry/master/get-poetry.py -UseBasicParsing).Content | python -\n",
    "```\n",
    "\n",
    "To use Poetry please reload / reopen your terminal.\n",
    "\n",
    "### Install dependencies\n",
    "After a virtual environment has been created and Poetry has been installed, the external Python libraries can be installed. To do this, the created virtual environment must first be activated. For this purpose, the following commands are needed.\n",
    "\n",
    "#### Anaconda/Miniconda\n",
    "```bash\n",
    "conda activate <your_env_name>\n",
    "```\n",
    "#### Python virtual env\n",
    "```bash\n",
    "source <path_to_yout_env>/bin/activate\n",
    "```\n",
    "\n",
    "#### Install dependencies with Poetry\n",
    "After the correct virtual environment has been selected, the required Python libraries can be installed.\n",
    "```bash\n",
    "poetry install\n",
    "```"
   ]
  },
  {
   "cell_type": "markdown",
   "metadata": {},
   "source": []
  }
 ],
 "metadata": {
  "kernelspec": {
   "display_name": "Python 3",
   "language": "python",
   "name": "python3"
  }
 },
 "nbformat": 4,
 "nbformat_minor": 0
}
